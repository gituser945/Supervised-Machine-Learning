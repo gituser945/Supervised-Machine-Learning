{
 "cells": [
  {
   "cell_type": "markdown",
   "id": "automatic-immunology",
   "metadata": {},
   "source": [
    "# Hands-on Machine Learning with Scikit-Learn Course Educative"
   ]
  },
  {
   "cell_type": "markdown",
   "id": "revolutionary-mineral",
   "metadata": {},
   "source": [
    "### Load built-in dataset"
   ]
  },
  {
   "cell_type": "code",
   "execution_count": 6,
   "id": "convertible-jewelry",
   "metadata": {},
   "outputs": [],
   "source": [
    "# importing dataset\n",
    "\n",
    "import pandas as pd\n",
    "import sklearn.datasets as datasets"
   ]
  },
  {
   "cell_type": "code",
   "execution_count": 2,
   "id": "understanding-harbor",
   "metadata": {},
   "outputs": [],
   "source": [
    "# Load built-in dataset\n",
    "\n",
    "iris = datasets.load_iris()"
   ]
  },
  {
   "cell_type": "code",
   "execution_count": 13,
   "id": "waiting-aurora",
   "metadata": {},
   "outputs": [
    {
     "name": "stdout",
     "output_type": "stream",
     "text": [
      "(150, 4)\n",
      "(150,)\n"
     ]
    }
   ],
   "source": [
    "# Getting shape of data\n",
    "\n",
    "print(iris.data.shape)\n",
    "print(iris.target.shape)"
   ]
  },
  {
   "cell_type": "code",
   "execution_count": 17,
   "id": "generic-experience",
   "metadata": {},
   "outputs": [
    {
     "name": "stdout",
     "output_type": "stream",
     "text": [
      "['sepal length (cm)', 'sepal width (cm)', 'petal length (cm)', 'petal width (cm)']\n",
      "['setosa' 'versicolor' 'virginica']\n"
     ]
    }
   ],
   "source": [
    "# getting features of dataset\n",
    "\n",
    "print(iris.feature_names)\n",
    "print(iris.target_names)"
   ]
  },
  {
   "cell_type": "code",
   "execution_count": 22,
   "id": "based-chick",
   "metadata": {},
   "outputs": [
    {
     "name": "stdout",
     "output_type": "stream",
     "text": [
      "iris dataset is .. _iris_dataset:\n",
      "\n",
      "Iris plants dataset\n",
      "--------------------\n",
      "\n",
      "**Data Set Characteristics:**\n",
      "\n",
      "    :Number of Instances: 150 (50 in each of three classes)\n",
      "    :Number of Attributes: 4 numeric, predictive attributes and the class\n",
      "    :Attribute Information:\n",
      "        - sepal length in cm\n",
      "        - sepal width in cm\n",
      "        - petal length in cm\n",
      "        - petal width in cm\n",
      "        - class:\n",
      "                - Iris-Setosa\n",
      "                - Iris-Versicolour\n",
      "                - Iris-Virginica\n",
      "                \n",
      "    :Summary Statistics:\n",
      "\n",
      "    ============== ==== ==== ======= ===== ====================\n",
      "                    Min  Max   Mean    SD   Class Correlation\n",
      "    ============== ==== ==== ======= ===== ====================\n",
      "    sepal length:   4.3  7.9   5.84   0.83    0.7826\n",
      "    sepal width:    2.0  4.4   3.05   0.43   -0.4194\n",
      "    petal length:   1.0  6.9   3.76   1.76    0.9490  (high!)\n",
      "    petal width:    0.1  2.5   1.20   0.76    0.9565  (high!)\n",
      "    ============== ==== ==== ======= ===== ====================\n",
      "\n",
      "    :Missing Attribute Values: None\n",
      "    :Class Distribution: 33.3% for each of 3 classes.\n",
      "    :Creator: R.A. Fisher\n",
      "    :Donor: Michael Marshall (MARSHALL%PLU@io.arc.nasa.gov)\n",
      "    :Date: July, 1988\n",
      "\n",
      "The famous Iris database, first used by Sir R.A. Fisher. The dataset is taken\n",
      "from Fisher's paper. Note that it's the same as in R, but not as in the UCI\n",
      "Machine Learning Repository, which has two wrong data points.\n",
      "\n",
      "This is perhaps the best known database to be found in the\n",
      "pattern recognition literature.  Fisher's paper is a classic in the field and\n",
      "is referenced frequently to this day.  (See Duda & Hart, for example.)  The\n",
      "data set contains 3 classes of 50 instances each, where each class refers to a\n",
      "type of iris plant.  One class is linearly separable from the other 2; the\n",
      "latter are NOT linearly separable from each other.\n",
      "\n",
      ".. topic:: References\n",
      "\n",
      "   - Fisher, R.A. \"The use of multiple measurements in taxonomic problems\"\n",
      "     Annual Eugenics, 7, Part II, 179-188 (1936); also in \"Contributions to\n",
      "     Mathematical Statistics\" (John Wiley, NY, 1950).\n",
      "   - Duda, R.O., & Hart, P.E. (1973) Pattern Classification and Scene Analysis.\n",
      "     (Q327.D83) John Wiley & Sons.  ISBN 0-471-22361-1.  See page 218.\n",
      "   - Dasarathy, B.V. (1980) \"Nosing Around the Neighborhood: A New System\n",
      "     Structure and Classification Rule for Recognition in Partially Exposed\n",
      "     Environments\".  IEEE Transactions on Pattern Analysis and Machine\n",
      "     Intelligence, Vol. PAMI-2, No. 1, 67-71.\n",
      "   - Gates, G.W. (1972) \"The Reduced Nearest Neighbor Rule\".  IEEE Transactions\n",
      "     on Information Theory, May 1972, 431-433.\n",
      "   - See also: 1988 MLC Proceedings, 54-64.  Cheeseman et al\"s AUTOCLASS II\n",
      "     conceptual clustering system finds 3 classes in the data.\n",
      "   - Many, many more ...\n"
     ]
    }
   ],
   "source": [
    "print(\"iris dataset is {}\".format(iris.DESCR))"
   ]
  },
  {
   "cell_type": "markdown",
   "id": "consistent-membership",
   "metadata": {},
   "source": [
    "## Generate synthetic dataset"
   ]
  },
  {
   "cell_type": "code",
   "execution_count": 30,
   "id": "authorized-egypt",
   "metadata": {},
   "outputs": [
    {
     "name": "stdout",
     "output_type": "stream",
     "text": [
      "(50, 10)\n",
      "(50,)\n"
     ]
    }
   ],
   "source": [
    "X,y = datasets.make_classification(n_features=10,n_samples = 50)\n",
    "print(X.shape)\n",
    "print(y.shape)"
   ]
  },
  {
   "cell_type": "code",
   "execution_count": 48,
   "id": "uniform-bridal",
   "metadata": {},
   "outputs": [
    {
     "data": {
      "text/plain": [
       "<matplotlib.collections.PathCollection at 0x7fc12dbf39d0>"
      ]
     },
     "execution_count": 48,
     "metadata": {},
     "output_type": "execute_result"
    },
    {
     "data": {
      "image/png": "[encoded data removed]",
      "text/plain": [
       "<Figure size 600x400 with 1 Axes>"
      ]
     },
     "metadata": {
      "needs_background": "light"
     },
     "output_type": "display_data"
    }
   ],
   "source": [
    "# plotting the dataset distributions\n",
    "\n",
    "import matplotlib.pyplot as plt\n",
    "\n",
    "fig,axe = plt.subplots(dpi=100)\n",
    "\n",
    "X,y = datasets.make_classification(n_features=2,\n",
    "                                   n_redundant=0,\n",
    "                                   n_informative=1,\n",
    "                                   n_clusters_per_class=1,\n",
    "                                   random_state=45)\n",
    "\n",
    "axe.scatter(X[:,0],X[:,1],c=y,marker = 'o')"
   ]
  },
  {
   "cell_type": "markdown",
   "id": "promotional-egyptian",
   "metadata": {},
   "source": [
    "## Generate regression dataset "
   ]
  },
  {
   "cell_type": "code",
   "execution_count": 45,
   "id": "related-zoning",
   "metadata": {},
   "outputs": [
    {
     "name": "stdout",
     "output_type": "stream",
     "text": [
      "(100, 1)\n",
      "(100,)\n"
     ]
    }
   ],
   "source": [
    "X,y = datasets.make_regression(n_features=1,n_informative=1)\n",
    "print(X.shape)\n",
    "print(y.shape)"
   ]
  },
  {
   "cell_type": "code",
   "execution_count": 47,
   "id": "meaningful-decimal",
   "metadata": {},
   "outputs": [
    {
     "data": {
      "text/plain": [
       "<matplotlib.collections.PathCollection at 0x7fc1161d77f0>"
      ]
     },
     "execution_count": 47,
     "metadata": {},
     "output_type": "execute_result"
    },
    {
     "data": {
      "image/png": "[encoded data removed]",
      "text/plain": [
       "<Figure size 600x400 with 1 Axes>"
      ]
     },
     "metadata": {
      "needs_background": "light"
     },
     "output_type": "display_data"
    }
   ],
   "source": [
    "# plot the dataset\n",
    "\n",
    "fig,axe = plt.subplots(dpi=100)\n",
    "\n",
    "axe.scatter(X,y,marker = 'o')"
   ]
  },
  {
   "cell_type": "markdown",
   "id": "driving-hello",
   "metadata": {},
   "source": [
    "## Data Preprocessing"
   ]
  },
  {
   "cell_type": "markdown",
   "id": "portuguese-beast",
   "metadata": {},
   "source": [
    "#### 1) Scale numerical feature\n",
    "#### MinMax"
   ]
  },
  {
   "cell_type": "code",
   "execution_count": 59,
   "id": "hazardous-discipline",
   "metadata": {},
   "outputs": [
    {
     "name": "stdout",
     "output_type": "stream",
     "text": [
      "--------------------------------------------------\n",
      "--- The matrix ---\n",
      "[[   6    8 5448 1788]\n",
      " [   7    9 3665 5427]\n",
      " [   3    7 8155 7226]\n",
      " [   6    2 4398 2989]]\n",
      "--------------------------------------------------\n",
      "--- Transformed matrix\n",
      "[[0.75       0.85714286 0.39710468 0.        ]\n",
      " [1.         1.         0.         0.66917985]\n",
      " [0.         0.71428571 1.         1.        ]\n",
      " [0.75       0.         0.16325167 0.22085325]]\n"
     ]
    }
   ],
   "source": [
    "import pandas as pd\n",
    "import numpy as np\n",
    "import sklearn.preprocessing as preprocessing\n",
    "\n",
    "print(\"-\"*50)\n",
    "X = np.random.randint(2,10,size=(4,2))\n",
    "X2 = np.random.randint(1000,10000,size=(4,2))\n",
    "final_X = np.concatenate((X,X2),axis=1)\n",
    "print('--- The matrix ---')\n",
    "print(final_X)\n",
    "\n",
    "\n",
    "print(\"-\"*50)\n",
    "\n",
    "\n",
    "minmax = preprocessing.MinMaxScaler()\n",
    "minmax.fit(final_X)\n",
    "minmax_X = minmax.transform(final_X)\n",
    "print('--- Transformed matrix')\n",
    "print(minmax_X)"
   ]
  },
  {
   "cell_type": "markdown",
   "id": "assisted-spoke",
   "metadata": {},
   "source": [
    "#### Standard"
   ]
  },
  {
   "cell_type": "code",
   "execution_count": 60,
   "id": "romantic-powder",
   "metadata": {},
   "outputs": [
    {
     "name": "stdout",
     "output_type": "stream",
     "text": [
      "--------------------------------------------------\n",
      "--- The original Matrix ---\n",
      "[[   9   16 8412 2783]\n",
      " [  18   19 4554 3724]\n",
      " [  17    9 8748 1742]\n",
      " [  12   14 1617 1595]]\n",
      "--------------------------------------------------\n",
      "--- Transformed Matrix ---\n",
      "[[-1.36082763  0.41208169  0.87749184  0.3739531 ]\n",
      " [ 1.08866211  1.23624508 -0.43504611  1.46677876]\n",
      " [ 0.81649658 -1.5109662   0.99180307 -0.83500707]\n",
      " [-0.54433105 -0.13736056 -1.4342488  -1.00572479]]\n"
     ]
    }
   ],
   "source": [
    "import pandas as pd\n",
    "import numpy as np\n",
    "import sklearn.preprocessing as preprocessing\n",
    "\n",
    "print(\"-\"*50)\n",
    "X = np.random.randint(2,20,size=(4,2))\n",
    "X1 = np.random.randint(100,10000,size=(4,2))\n",
    "X2 = np.concatenate((X,X1),axis = 1)\n",
    "print('--- The original Matrix ---')\n",
    "print(X2)\n",
    "\n",
    "print(\"-\"*50)\n",
    "\n",
    "standard = preprocessing.StandardScaler()\n",
    "standard.fit(X2)\n",
    "final_X2 = standard.transform(X2)\n",
    "print('--- Transformed Matrix ---')\n",
    "print(final_X2)"
   ]
  },
  {
   "cell_type": "markdown",
   "id": "private-compromise",
   "metadata": {},
   "source": [
    "#### Robust"
   ]
  },
  {
   "cell_type": "code",
   "execution_count": 66,
   "id": "plain-bobby",
   "metadata": {},
   "outputs": [
    {
     "name": "stdout",
     "output_type": "stream",
     "text": [
      "--- original Matrix ---\n",
      "[[   0    4   32 8678]\n",
      " [   0    9   15 9986]\n",
      " [   0    8   62 1806]\n",
      " [   0    8   85 2067]]\n",
      "**************************************************\n",
      "--- After robust transformation ---\n",
      "[[ 0.         -3.2        -0.375       0.47199515]\n",
      " [ 0.          0.8        -0.8         0.65876557]\n",
      " [ 0.          0.          0.375      -0.50926356]\n",
      " [ 0.          0.          0.95       -0.47199515]]\n"
     ]
    }
   ],
   "source": [
    "import sklearn.preprocessing as preprocessing\n",
    "import numpy as np\n",
    "\n",
    "X = np.random.randint((1,10),size = (4,2))\n",
    "X1 = np.random.randint((100,10000),size = (4,2))\n",
    "X3 = np.concatenate((X,X1),axis = 1)\n",
    "print('--- original Matrix ---')\n",
    "print(X3)\n",
    "print('*'*50)\n",
    "\n",
    "rob = preprocessing.RobustScaler()\n",
    "rob.fit(X3)\n",
    "X3_final = rob.transform(X3)\n",
    "print('--- After robust transformation ---')\n",
    "print(X3_final)"
   ]
  },
  {
   "cell_type": "markdown",
   "id": "julian-division",
   "metadata": {},
   "source": [
    "#### MaxAbs"
   ]
  },
  {
   "cell_type": "code",
   "execution_count": 68,
   "id": "visible-bahamas",
   "metadata": {},
   "outputs": [
    {
     "name": "stdout",
     "output_type": "stream",
     "text": [
      "--- original Matrix ---\n",
      "[[   0    9   49 6711]\n",
      " [   0    7    4 1816]\n",
      " [   0    2    7 3752]\n",
      " [   0    4   45 7188]]\n",
      "**************************************************\n",
      "[[0.         1.         1.         0.9336394 ]\n",
      " [0.         0.77777778 0.08163265 0.25264329]\n",
      " [0.         0.22222222 0.14285714 0.52198108]\n",
      " [0.         0.44444444 0.91836735 1.        ]]\n"
     ]
    }
   ],
   "source": [
    "import sklearn.preprocessing as preprocessing\n",
    "import numpy as np\n",
    "\n",
    "X = np.random.randint((1,10),size = (4,2))\n",
    "X1 = np.random.randint((100,10000),size = (4,2))\n",
    "X3 = np.concatenate((X,X1),axis = 1)\n",
    "print('--- original Matrix ---')\n",
    "print(X3)\n",
    "print('*'*50)\n",
    "\n",
    "mAbs = preprocessing.MaxAbsScaler()\n",
    "mAbs.fit(X3)\n",
    "X3_final = mAbs.transform(X3)\n",
    "print(X3_final)"
   ]
  },
  {
   "cell_type": "markdown",
   "id": "crucial-screen",
   "metadata": {},
   "source": [
    "#### Normalization"
   ]
  },
  {
   "cell_type": "code",
   "execution_count": 69,
   "id": "senior-hudson",
   "metadata": {},
   "outputs": [
    {
     "name": "stdout",
     "output_type": "stream",
     "text": [
      "--- original Matrix ---\n",
      "[[   0    5   44 8683]\n",
      " [   0    0   62 9641]\n",
      " [   0    4   15 4177]\n",
      " [   0    2   65 8486]]\n",
      "**************************************************\n",
      "[[0.00000000e+00 5.75830355e-04 5.06730713e-03 9.99986995e-01]\n",
      " [0.00000000e+00 0.00000000e+00 6.43073519e-03 9.99979323e-01]\n",
      " [0.00000000e+00 9.57618476e-04 3.59106929e-03 9.99993094e-01]\n",
      " [0.00000000e+00 2.35675380e-04 7.65944986e-03 9.99970638e-01]]\n"
     ]
    }
   ],
   "source": [
    "import sklearn.preprocessing as preprocessing\n",
    "import numpy as np\n",
    "\n",
    "X = np.random.randint((1,10),size = (4,2))\n",
    "X1 = np.random.randint((100,10000),size = (4,2))\n",
    "X3 = np.concatenate((X,X1),axis = 1)\n",
    "print('--- original Matrix ---')\n",
    "print(X3)\n",
    "print('*'*50)\n",
    "\n",
    "norm = preprocessing.Normalizer()\n",
    "norm.fit(X3)\n",
    "X3_final = norm.transform(X3)\n",
    "print(X3_final)"
   ]
  },
  {
   "cell_type": "markdown",
   "id": "greenhouse-flooring",
   "metadata": {},
   "source": [
    "#### Quantile"
   ]
  },
  {
   "cell_type": "code",
   "execution_count": 72,
   "id": "global-differential",
   "metadata": {},
   "outputs": [
    {
     "name": "stdout",
     "output_type": "stream",
     "text": [
      "[[45 15 39 36]\n",
      " [45 14 36 16]\n",
      " [14  5 29  1]\n",
      " [28 37  1 14]]\n",
      "[[1.         0.66666667 1.         1.        ]\n",
      " [1.         0.33333333 0.66666667 0.66666667]\n",
      " [0.         0.         0.33333333 0.        ]\n",
      " [0.33333333 1.         0.         0.33333333]]\n"
     ]
    },
    {
     "name": "stderr",
     "output_type": "stream",
     "text": [
      "/Library/Frameworks/Python.framework/Versions/3.9/lib/python3.9/site-packages/sklearn/preprocessing/_data.py:2612: UserWarning: n_quantiles (1000) is greater than the total number of samples (4). n_quantiles is set to n_samples.\n",
      "  warnings.warn(\"n_quantiles (%s) is greater than the total number \"\n"
     ]
    }
   ],
   "source": [
    "X = np.random.randint(1,50,size = (4,4))\n",
    "print(X)\n",
    "\n",
    "quant = preprocessing.QuantileTransformer()\n",
    "quant.fit(X)\n",
    "X_final = quant.transform(X)\n",
    "print(X_final)"
   ]
  },
  {
   "cell_type": "markdown",
   "id": "breathing-storm",
   "metadata": {},
   "source": [
    "### Non-linear feature mapping for numerical feature\n",
    "#### Binarizer"
   ]
  },
  {
   "cell_type": "code",
   "execution_count": 61,
   "id": "sacred-spectacular",
   "metadata": {},
   "outputs": [
    {
     "name": "stdout",
     "output_type": "stream",
     "text": [
      "The original data\n",
      "[[0.2 0.4 0.9 0.7 0.1 0.8]\n",
      " [0.8 0.1 0.2 0.8 0.1 0.4]]\n",
      "The transform data using Binarizer with threshold 0.7\n",
      "[[0. 0. 1. 0. 0. 1.]\n",
      " [1. 0. 0. 1. 0. 0.]]\n"
     ]
    }
   ],
   "source": [
    "import sklearn.preprocessing as preprocessing\n",
    "import numpy as np\n",
    "\n",
    "Xb = np.array([[0.2, 0.4, 0.9, 0.7, 0.1, 0.8], [0.8, 0.1, 0.2, 0.8, 0.1, 0.4]])\n",
    "binary = preprocessing.Binarizer(threshold=0.7)\n",
    "X_binary = binary.transform(Xb)\n",
    "print(\"The original data\")\n",
    "print(Xb)\n",
    "print(\"The transform data using Binarizer with threshold 0.7\")\n",
    "print(X_binary)"
   ]
  },
  {
   "cell_type": "markdown",
   "id": "completed-ground",
   "metadata": {},
   "source": [
    "#### Label Encoding"
   ]
  },
  {
   "cell_type": "code",
   "execution_count": 62,
   "id": "engaging-elite",
   "metadata": {},
   "outputs": [
    {
     "name": "stdout",
     "output_type": "stream",
     "text": [
      "The original data\n",
      "['Sun' 'Sun' 'Moon' 'Earth' 'Monn' 'Venus']\n",
      "The transform data using LabelEncoder\n",
      "[3 3 2 0 1 4]\n"
     ]
    }
   ],
   "source": [
    "import sklearn.preprocessing as preprocessing\n",
    "import numpy as np\n",
    "\n",
    "targets = np.array([\"Sun\", \"Sun\", \"Moon\", \"Earth\", \"Monn\", \"Venus\"])\n",
    "labelenc = preprocessing.LabelEncoder()\n",
    "labelenc.fit(targets)\n",
    "targets_trans = labelenc.transform(targets)\n",
    "print(\"The original data\")\n",
    "print(targets)\n",
    "print(\"The transform data using LabelEncoder\")\n",
    "print(targets_trans)\n"
   ]
  },
  {
   "cell_type": "markdown",
   "id": "closed-program",
   "metadata": {},
   "source": [
    "## Feature Selection"
   ]
  },
  {
   "cell_type": "markdown",
   "id": "fatty-stick",
   "metadata": {},
   "source": [
    "#### Remove feature with low variance"
   ]
  },
  {
   "cell_type": "code",
   "execution_count": 76,
   "id": "ceramic-pricing",
   "metadata": {},
   "outputs": [
    {
     "name": "stdout",
     "output_type": "stream",
     "text": [
      "--- Original ---\n",
      "[[0 0 1]\n",
      " [0 1 0]\n",
      " [1 0 0]\n",
      " [0 1 1]\n",
      " [0 1 0]\n",
      " [0 0 1]]\n",
      "--- After removed ---\n",
      "[[0 1]\n",
      " [1 0]\n",
      " [0 0]\n",
      " [1 1]\n",
      " [1 0]\n",
      " [0 1]]\n"
     ]
    }
   ],
   "source": [
    "import sklearn.feature_selection as fs\n",
    "\n",
    "X = np.array([[0,0,1],[0,1,0],[1,0,0],[0,1,1],[0,1,0],[0,0,1]])\n",
    "print('--- Original ---')\n",
    "print(X)\n",
    "\n",
    "\n",
    "fs = fs.VarianceThreshold(threshold = 0.2)\n",
    "fs.fit(X)\n",
    "X_final = fs.transform(X)\n",
    "print('--- After removed ---')\n",
    "print(X_final)"
   ]
  },
  {
   "cell_type": "markdown",
   "id": "monetary-liabilities",
   "metadata": {},
   "source": [
    "#### Select K-best features\n",
    "#### Select Features from another model"
   ]
  },
  {
   "cell_type": "markdown",
   "id": "hundred-thanksgiving",
   "metadata": {},
   "source": [
    "## Feature Extraction\n",
    "Feature extraction is different from feature selection. Feature extraction focuses on how to extract data from complicated data, such as text or images, to numerical features."
   ]
  },
  {
   "cell_type": "markdown",
   "id": "atmospheric-mechanism",
   "metadata": {},
   "source": [
    "#### CountVectorization"
   ]
  },
  {
   "cell_type": "code",
   "execution_count": 77,
   "id": "vertical-softball",
   "metadata": {},
   "outputs": [
    {
     "name": "stdout",
     "output_type": "stream",
     "text": [
      "Get all the feature names of this corpus\n",
      "['an', 'apple', 'can', 'have', 'is', 'it', 'red', 'sweet', 'taste', 'the', 'too', 'was', 'you']\n",
      "[[0 1 0 0 1 0 1 0 0 1 0 0 0]\n",
      " [1 1 0 1 0 0 0 0 0 0 0 0 0]\n",
      " [0 1 0 0 0 0 0 1 0 1 0 1 0]\n",
      " [0 0 1 0 0 1 0 0 1 0 1 0 1]]\n"
     ]
    }
   ],
   "source": [
    "from sklearn.feature_extraction.text import CountVectorizer\n",
    "\n",
    "corpus = [\"The apple is red\",\"I have an apple\",\"The apple was sweet\",\"You can taste it too\"]\n",
    "\n",
    "counterVec = CountVectorizer()\n",
    "counterVec.fit(corpus)\n",
    "\n",
    "print(\"Get all the feature names of this corpus\")\n",
    "print(counterVec.get_feature_names())\n",
    "\n",
    "corpus_data = counterVec.transform(corpus)\n",
    "print(corpus_data.toarray())\n"
   ]
  },
  {
   "cell_type": "markdown",
   "id": "engaged-satin",
   "metadata": {},
   "source": [
    "#### Extract bigrams by CountVectorizer"
   ]
  },
  {
   "cell_type": "code",
   "execution_count": 1,
   "id": "whole-worry",
   "metadata": {},
   "outputs": [
    {
     "name": "stdout",
     "output_type": "stream",
     "text": [
      "Get all the feature names of this corpus\n",
      "['an', 'an apple', 'apple', 'apple is', 'apple was', 'can', 'can taste', 'have', 'have an', 'is', 'is red', 'it', 'it too', 'red', 'sweet', 'taste', 'taste it', 'the', 'the apple', 'too', 'was', 'was sweet', 'you', 'you can']\n",
      "[[0 0 1 1 0 0 0 0 0 1 1 0 0 1 0 0 0 1 1 0 0 0 0 0]\n",
      " [1 1 1 0 0 0 0 1 1 0 0 0 0 0 0 0 0 0 0 0 0 0 0 0]\n",
      " [0 0 1 0 1 0 0 0 0 0 0 0 0 0 1 0 0 1 1 0 1 1 0 0]\n",
      " [0 0 0 0 0 1 1 0 0 0 0 1 1 0 0 1 1 0 0 1 0 0 1 1]]\n"
     ]
    }
   ],
   "source": [
    "from sklearn.feature_extraction.text import CountVectorizer\n",
    "\n",
    "corpus = [\"The apple is red\",\"I have an apple\",\"The apple was sweet\",\"You can taste it too\"]\n",
    "\n",
    "counterVec = CountVectorizer(ngram_range=(1,2))\n",
    "counterVec.fit(corpus)\n",
    "\n",
    "print(\"Get all the feature names of this corpus\")\n",
    "print(counterVec.get_feature_names())\n",
    "\n",
    "corpus_data = counterVec.transform(corpus)\n",
    "print(corpus_data.toarray())"
   ]
  },
  {
   "cell_type": "markdown",
   "id": "casual-problem",
   "metadata": {},
   "source": [
    "## Missing Values"
   ]
  },
  {
   "cell_type": "markdown",
   "id": "latin-guyana",
   "metadata": {},
   "source": [
    "#### Imputation with simple method "
   ]
  },
  {
   "cell_type": "code",
   "execution_count": 10,
   "id": "imperial-cornell",
   "metadata": {},
   "outputs": [
    {
     "name": "stdout",
     "output_type": "stream",
     "text": [
      "--- Original Matrix ---\n",
      "[[0.63361427 0.88895953 0.38803522 0.73020314]\n",
      " [0.8738357  0.33201178 0.98935117 0.4519763 ]\n",
      " [0.92902995 0.26944044 0.86141666        nan]\n",
      " [0.76886808        nan 0.07707349 0.44379817]]\n",
      "--- Mean Imputer ---\n",
      "[[0.63361427 0.88895953 0.38803522 0.73020314]\n",
      " [0.8738357  0.33201178 0.98935117 0.4519763 ]\n",
      " [0.92902995 0.26944044 0.86141666 0.54199254]\n",
      " [0.76886808 0.49680392 0.07707349 0.44379817]]\n",
      "--- Median Imputer ---\n",
      "[[0.63361427 0.88895953 0.38803522 0.73020314]\n",
      " [0.8738357  0.33201178 0.98935117 0.4519763 ]\n",
      " [0.92902995 0.26944044 0.86141666 0.4519763 ]\n",
      " [0.76886808 0.33201178 0.07707349 0.44379817]]\n",
      "--- Mode Imputer ---\n",
      "[[0.63361427 0.88895953 0.38803522 0.73020314]\n",
      " [0.8738357  0.33201178 0.98935117 0.4519763 ]\n",
      " [0.92902995 0.26944044 0.86141666 0.44379817]\n",
      " [0.76886808 0.26944044 0.07707349 0.44379817]]\n"
     ]
    }
   ],
   "source": [
    "from sklearn.impute import SimpleImputer\n",
    "import numpy as np\n",
    "\n",
    "X = np.random.random(size = (4,4))\n",
    "\n",
    "X[2,3] = np.nan\n",
    "X[3,1] = np.nan\n",
    "\n",
    "print('--- Original Matrix ---')\n",
    "print(X)\n",
    "\n",
    "imputer = SimpleImputer(strategy = 'mean')\n",
    "X_mean = imputer.fit_transform(X)\n",
    "print('--- Mean Imputer ---')\n",
    "print(X_mean)\n",
    "\n",
    "imputer = SimpleImputer(strategy = 'median')\n",
    "X_median = imputer.fit_transform(X)\n",
    "print('--- Median Imputer ---')\n",
    "print(X_median)\n",
    "\n",
    "imputer = SimpleImputer(strategy = 'most_frequent')\n",
    "X_mode = imputer.fit_transform(X)\n",
    "print('--- Most Frequent Imputer ---')\n",
    "print(X_mode)"
   ]
  },
  {
   "cell_type": "markdown",
   "id": "recovered-refrigerator",
   "metadata": {},
   "source": [
    "#### Imputation with KNN "
   ]
  },
  {
   "cell_type": "code",
   "execution_count": 13,
   "id": "rotary-satellite",
   "metadata": {},
   "outputs": [
    {
     "name": "stdout",
     "output_type": "stream",
     "text": [
      "--- Original Matrix ---\n",
      "[[ 1.  2.  3.]\n",
      " [nan  4.  8.]\n",
      " [nan 23. 67.]\n",
      " [22. 54. nan]]\n",
      "--- After KNN imputation ---\n",
      "[[ 1.   2.   3. ]\n",
      " [11.5  4.   8. ]\n",
      " [11.5 23.  67. ]\n",
      " [22.  54.  26. ]]\n"
     ]
    }
   ],
   "source": [
    "from sklearn.impute import KNNImputer\n",
    "import numpy as np\n",
    "\n",
    "X = np.array([[1,2,3],[np.nan,4,8],[np.nan,23,67],[22,54,np.nan]])\n",
    "print('--- Original Matrix ---')\n",
    "print(X)\n",
    "\n",
    "knn = KNNImputer(n_neighbors=3)\n",
    "X_knn = knn.fit_transform(X)\n",
    "print('--- After KNN imputation ---')\n",
    "print(X_knn)"
   ]
  },
  {
   "cell_type": "markdown",
   "id": "tough-regard",
   "metadata": {},
   "source": [
    "## PCA(Principal Component Analysis)\n",
    "There are many dimension reduction methods:\n",
    "\n",
    "Supervised method: Linear Discriminant Analysis.\n",
    "<br>Unsupervised method: Principal Component Analysis."
   ]
  },
  {
   "cell_type": "markdown",
   "id": "forced-overhead",
   "metadata": {},
   "source": [
    "##### PCA with Iris "
   ]
  },
  {
   "cell_type": "code",
   "execution_count": 15,
   "id": "agreed-banking",
   "metadata": {},
   "outputs": [
    {
     "data": {
      "text/plain": [
       "<matplotlib.collections.PathCollection at 0x7fb7c0893400>"
      ]
     },
     "execution_count": 15,
     "metadata": {},
     "output_type": "execute_result"
    },
    {
     "data": {
      "image/png": "[encoded data removed]",
      "text/plain": [
       "<Figure size 600x400 with 1 Axes>"
      ]
     },
     "metadata": {
      "needs_background": "light"
     },
     "output_type": "display_data"
    }
   ],
   "source": [
    "import sklearn.datasets as datasets\n",
    "from sklearn.decomposition import PCA\n",
    "import matplotlib.pyplot as plt\n",
    "from sklearn.model_selection import train_test_split\n",
    "\n",
    "X, y = datasets.load_iris(return_X_y=True)\n",
    "\n",
    "pca = PCA(n_components=2)\n",
    "pca.fit(X)\n",
    "X_tran = pca.transform(X)\n",
    "\n",
    "\n",
    "fig, axe = plt.subplots(dpi=100)\n",
    "axe.scatter(X_tran[:, 0], X_tran[:, 1], c=y)"
   ]
  },
  {
   "cell_type": "markdown",
   "id": "regional-technology",
   "metadata": {},
   "source": [
    "## Metrics\n",
    "### Classification\n",
    "For classification ploting confusion matrix"
   ]
  },
  {
   "cell_type": "code",
   "execution_count": 21,
   "id": "qualified-roberts",
   "metadata": {},
   "outputs": [
    {
     "data": {
      "text/plain": [
       "<sklearn.metrics._plot.confusion_matrix.ConfusionMatrixDisplay at 0x7fb7c14c4250>"
      ]
     },
     "execution_count": 21,
     "metadata": {},
     "output_type": "execute_result"
    },
    {
     "data": {
      "image/png": "[encoded data removed]",
      "text/plain": [
       "<Figure size 432x288 with 2 Axes>"
      ]
     },
     "metadata": {
      "needs_background": "light"
     },
     "output_type": "display_data"
    }
   ],
   "source": [
    "from sklearn.model_selection import train_test_split\n",
    "from sklearn.linear_model import LogisticRegression\n",
    "import sklearn.datasets as dataset\n",
    "from sklearn.metrics import plot_confusion_matrix\n",
    "\n",
    "\n",
    "X,y = dataset.make_classification(1000)\n",
    "\n",
    "train_x,test_x,train_y,test_y = train_test_split(X,y,test_size=0.20,random_state=123)\n",
    "\n",
    "lr = LogisticRegression()\n",
    "lr.fit(train_x,train_y)\n",
    "\n",
    "pred_y = lr.predict(test_x)\n",
    "\n",
    "plot_confusion_matrix(lr,test_x,test_y)"
   ]
  },
  {
   "cell_type": "markdown",
   "id": "necessary-suite",
   "metadata": {},
   "source": [
    "#### F1-Score\n",
    "It is a measure of test accuracy and it is used to trade off between precision and recall."
   ]
  },
  {
   "cell_type": "code",
   "execution_count": 23,
   "id": "isolated-cylinder",
   "metadata": {},
   "outputs": [
    {
     "data": {
      "text/plain": [
       "0.9765258215962441"
      ]
     },
     "execution_count": 23,
     "metadata": {},
     "output_type": "execute_result"
    }
   ],
   "source": [
    "from sklearn.model_selection import train_test_split\n",
    "from sklearn.linear_model import LogisticRegression\n",
    "import sklearn.datasets as dataset\n",
    "from sklearn.metrics import plot_confusion_matrix,f1_score,roc_curve\n",
    "\n",
    "\n",
    "X,y = dataset.make_classification(1000)\n",
    "\n",
    "train_x,test_x,train_y,test_y = train_test_split(X,y,test_size=0.20,random_state=123)\n",
    "\n",
    "lr = LogisticRegression()\n",
    "lr.fit(train_x,train_y)\n",
    "\n",
    "pred_y = lr.predict(test_x)\n",
    "\n",
    "f1_score(pred_y,test_y)"
   ]
  },
  {
   "cell_type": "markdown",
   "id": "capable-volunteer",
   "metadata": {},
   "source": [
    "#### AUC"
   ]
  },
  {
   "cell_type": "code",
   "execution_count": 28,
   "id": "personalized-cherry",
   "metadata": {},
   "outputs": [
    {
     "data": {
      "text/plain": [
       "<sklearn.metrics._plot.roc_curve.RocCurveDisplay at 0x7fb7c1a47ee0>"
      ]
     },
     "execution_count": 28,
     "metadata": {},
     "output_type": "execute_result"
    },
    {
     "data": {
      "image/png": "[encoded data removed]",
      "text/plain": [
       "<Figure size 432x288 with 1 Axes>"
      ]
     },
     "metadata": {
      "needs_background": "light"
     },
     "output_type": "display_data"
    }
   ],
   "source": [
    "from sklearn.metrics import plot_confusion_matrix,f1_score,roc_curve,auc,plot_roc_curve,classification_report\n",
    "\n",
    "tpr,fpr,threshold = roc_curve(test_y,pred_y)\n",
    "auc = auc(fpr,tpr)\n",
    "plot_roc_curve(lr,test_x,test_y)"
   ]
  },
  {
   "cell_type": "markdown",
   "id": "objective-ability",
   "metadata": {},
   "source": [
    "#### Classification Report"
   ]
  },
  {
   "cell_type": "code",
   "execution_count": 30,
   "id": "marked-sector",
   "metadata": {},
   "outputs": [
    {
     "name": "stdout",
     "output_type": "stream",
     "text": [
      "              precision    recall  f1-score   support\n",
      "\n",
      "           0       0.98      0.97      0.97        94\n",
      "           1       0.97      0.98      0.98       106\n",
      "\n",
      "    accuracy                           0.97       200\n",
      "   macro avg       0.98      0.97      0.97       200\n",
      "weighted avg       0.98      0.97      0.97       200\n",
      "\n"
     ]
    }
   ],
   "source": [
    "from sklearn.metrics import plot_confusion_matrix,f1_score,roc_curve,auc,plot_roc_curve,classification_report\n",
    "\n",
    "print(classification_report(test_y,pred_y))"
   ]
  },
  {
   "cell_type": "markdown",
   "id": "first-roller",
   "metadata": {},
   "source": [
    "## Metrics\n",
    "### Regression"
   ]
  },
  {
   "cell_type": "code",
   "execution_count": 31,
   "id": "liked-parking",
   "metadata": {},
   "outputs": [
    {
     "name": "stdout",
     "output_type": "stream",
     "text": [
      "The MSE is 2.9786065650268255e-25\n"
     ]
    }
   ],
   "source": [
    "import sklearn.datasets as datasets\n",
    "import sklearn.metrics as metrics\n",
    "from sklearn.linear_model import LinearRegression\n",
    "from sklearn.model_selection import train_test_split\n",
    "\n",
    "Xr, yr = datasets.make_regression(1000)\n",
    "train_xr, test_xr, train_yr, test_yr = train_test_split(Xr,\n",
    "                                                        yr,\n",
    "                                                        test_size=0.2,\n",
    "                                                        random_state=42)\n",
    "\n",
    "lrg = LinearRegression()\n",
    "lrg.fit(train_xr, train_yr)\n",
    "pred_yr = lrg.predict(test_xr)\n",
    "mse = metrics.mean_squared_error(test_yr, pred_yr)\n",
    "print(\"The MSE is {}\".format(mse))"
   ]
  },
  {
   "cell_type": "markdown",
   "id": "cognitive-specific",
   "metadata": {},
   "source": [
    "## Linear Regression"
   ]
  },
  {
   "cell_type": "code",
   "execution_count": 38,
   "id": "theoretical-richardson",
   "metadata": {},
   "outputs": [
    {
     "data": {
      "text/plain": [
       "24.291119474973616"
      ]
     },
     "execution_count": 38,
     "metadata": {},
     "output_type": "execute_result"
    }
   ],
   "source": [
    "import sklearn.datasets as dataset\n",
    "from sklearn.linear_model import LinearRegression\n",
    "from sklearn.model_selection import train_test_split\n",
    "from sklearn.metrics import mean_squared_error\n",
    "\n",
    "boston = dataset.load_boston()\n",
    "\n",
    "train_x,test_x,train_y,test_y = train_test_split(boston.data,boston.target,test_size=0.20,random_state=42)\n",
    "\n",
    "lr = LinearRegression()\n",
    "lr.fit(train_x,train_y)\n",
    "pred_y = lr.predict(test_x)\n",
    "\n",
    "mean_squared_error(pred_y,test_y)"
   ]
  },
  {
   "cell_type": "code",
   "execution_count": null,
   "id": "crazy-stick",
   "metadata": {},
   "outputs": [],
   "source": []
  }
 ],
 "metadata": {
  "kernelspec": {
   "display_name": "Python 3",
   "language": "python",
   "name": "python3"
  },
  "language_info": {
   "codemirror_mode": {
    "name": "ipython",
    "version": 3
   },
   "file_extension": ".py",
   "mimetype": "text/x-python",
   "name": "python",
   "nbconvert_exporter": "python",
   "pygments_lexer": "ipython3",
   "version": "3.9.1"
  }
 },
 "nbformat": 4,
 "nbformat_minor": 5
}
