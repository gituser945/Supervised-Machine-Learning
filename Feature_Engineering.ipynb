{
 "cells": [
  {
   "cell_type": "markdown",
   "id": "visible-douglas",
   "metadata": {},
   "source": [
    "## Feature Engineering"
   ]
  },
  {
   "cell_type": "markdown",
   "id": "varying-orchestra",
   "metadata": {},
   "source": [
    "### Label Encoding\n",
    "#### Sklearn implementation of Label Encoding"
   ]
  },
  {
   "cell_type": "code",
   "execution_count": 1,
   "id": "precious-timothy",
   "metadata": {},
   "outputs": [],
   "source": [
    "# importing libraries\n",
    "\n",
    "import pandas as pd\n",
    "import numpy as np\n",
    "from sklearn.preprocessing import LabelEncoder"
   ]
  },
  {
   "cell_type": "code",
   "execution_count": 2,
   "id": "virgin-roulette",
   "metadata": {},
   "outputs": [
    {
     "name": "stdout",
     "output_type": "stream",
     "text": [
      "--- targets ---\n",
      "['Sun' 'Sun' 'Moon' 'Earth' 'Monn' 'Venus']\n",
      "--- targets trans ---\n",
      "[3 3 2 0 1 4]\n"
     ]
    }
   ],
   "source": [
    "# label Encoding\n",
    "\n",
    "targets = np.array(['Sun','Sun','Moon','Earth','Monn','Venus'])\n",
    "labelenc = LabelEncoder()\n",
    "labelenc.fit(targets)\n",
    "targets_trans = labelenc.transform(targets)\n",
    "print('--- targets ---')\n",
    "print(targets)\n",
    "print('--- targets trans ---')\n",
    "print(targets_trans)"
   ]
  },
  {
   "cell_type": "markdown",
   "id": "restricted-agency",
   "metadata": {},
   "source": [
    "### Label Encoding\n",
    "#### Pandas implementation of Label Encoding"
   ]
  },
  {
   "cell_type": "code",
   "execution_count": 4,
   "id": "stock-private",
   "metadata": {},
   "outputs": [],
   "source": [
    "# importing pandas library\n",
    "\n",
    "import pandas as pd"
   ]
  },
  {
   "cell_type": "code",
   "execution_count": 13,
   "id": "continent-radical",
   "metadata": {},
   "outputs": [
    {
     "name": "stdout",
     "output_type": "stream",
     "text": [
      "The original dataframe type\n",
      "object\n",
      "******************************\n",
      "New Datatype\n",
      "category\n",
      "******************************\n",
      "The new column\n",
      "    col1  cat_code\n",
      "0    Sun         3\n",
      "1    Sun         3\n",
      "2   Moon         2\n",
      "3  Earth         0\n",
      "4   Monn         1\n",
      "5  Venus         4\n"
     ]
    }
   ],
   "source": [
    "df = pd.DataFrame({'col1':['Sun','Sun','Moon','Earth','Monn','Venus']})\n",
    "\n",
    "print('The original dataframe type')\n",
    "print(df['col1'].dtype)\n",
    "print('*'*30)\n",
    "\n",
    "df['col1'] = df['col1'].astype('category')\n",
    "print('New Datatype')\n",
    "print(df['col1'].dtype)\n",
    "print('*'*30)\n",
    "\n",
    "df['cat_code'] = df['col1'].cat.codes\n",
    "print('The new column')\n",
    "print(df)"
   ]
  },
  {
   "cell_type": "markdown",
   "id": "civilian-glory",
   "metadata": {},
   "source": [
    "### One hot Encoding\n",
    "#### Sklearn implementation of Label Encoding"
   ]
  },
  {
   "cell_type": "code",
   "execution_count": 14,
   "id": "contained-single",
   "metadata": {},
   "outputs": [],
   "source": [
    "# importing libraries\n",
    "\n",
    "import pandas as pd\n",
    "import numpy as np\n",
    "from sklearn.preprocessing import OneHotEncoder"
   ]
  },
  {
   "cell_type": "code",
   "execution_count": 20,
   "id": "worthy-millennium",
   "metadata": {},
   "outputs": [
    {
     "name": "stdout",
     "output_type": "stream",
     "text": [
      "-- origial --\n",
      "[3 3 2 0 1 4]\n",
      "-- transformed --\n",
      "[[0. 0. 0. 1. 0.]\n",
      " [0. 0. 0. 1. 0.]\n",
      " [0. 0. 1. 0. 0.]\n",
      " [1. 0. 0. 0. 0.]\n",
      " [0. 1. 0. 0. 0.]\n",
      " [0. 0. 0. 0. 1.]]\n"
     ]
    }
   ],
   "source": [
    "targets = np.array(['Sun','Sun','Moon','Earth','Monn','Venus'])\n",
    "\n",
    "labelEnc = LabelEncoder()\n",
    "new_targets = labelEnc.fit_transform(targets)\n",
    "\n",
    "oneHot = OneHotEncoder()\n",
    "oneHot.fit(new_targets.reshape(-1,1))\n",
    "targets_trans = oneHot.transform(new_targets.reshape(-1,1))\n",
    "print('-- origial --')\n",
    "print(new_targets)\n",
    "print('-- transformed --')\n",
    "print(targets_trans.toarray())"
   ]
  },
  {
   "cell_type": "markdown",
   "id": "acknowledged-tolerance",
   "metadata": {},
   "source": [
    "### One hot Encoding\n",
    "#### Pandas implementation of Label Encoding\n",
    "pandas provides a function called get_dummies for one-hot encoding"
   ]
  },
  {
   "cell_type": "code",
   "execution_count": 22,
   "id": "perceived-reconstruction",
   "metadata": {},
   "outputs": [
    {
     "data": {
      "text/html": [
       "<div>\n",
       "<style scoped>\n",
       "    .dataframe tbody tr th:only-of-type {\n",
       "        vertical-align: middle;\n",
       "    }\n",
       "\n",
       "    .dataframe tbody tr th {\n",
       "        vertical-align: top;\n",
       "    }\n",
       "\n",
       "    .dataframe thead th {\n",
       "        text-align: right;\n",
       "    }\n",
       "</style>\n",
       "<table border=\"1\" class=\"dataframe\">\n",
       "  <thead>\n",
       "    <tr style=\"text-align: right;\">\n",
       "      <th></th>\n",
       "      <th>cat_code</th>\n",
       "      <th>Planets_Earth</th>\n",
       "      <th>Planets_Monn</th>\n",
       "      <th>Planets_Moon</th>\n",
       "      <th>Planets_Sun</th>\n",
       "      <th>Planets_Venus</th>\n",
       "    </tr>\n",
       "  </thead>\n",
       "  <tbody>\n",
       "    <tr>\n",
       "      <th>0</th>\n",
       "      <td>3</td>\n",
       "      <td>0</td>\n",
       "      <td>0</td>\n",
       "      <td>0</td>\n",
       "      <td>1</td>\n",
       "      <td>0</td>\n",
       "    </tr>\n",
       "    <tr>\n",
       "      <th>1</th>\n",
       "      <td>3</td>\n",
       "      <td>0</td>\n",
       "      <td>0</td>\n",
       "      <td>0</td>\n",
       "      <td>1</td>\n",
       "      <td>0</td>\n",
       "    </tr>\n",
       "    <tr>\n",
       "      <th>2</th>\n",
       "      <td>2</td>\n",
       "      <td>0</td>\n",
       "      <td>0</td>\n",
       "      <td>1</td>\n",
       "      <td>0</td>\n",
       "      <td>0</td>\n",
       "    </tr>\n",
       "    <tr>\n",
       "      <th>3</th>\n",
       "      <td>0</td>\n",
       "      <td>1</td>\n",
       "      <td>0</td>\n",
       "      <td>0</td>\n",
       "      <td>0</td>\n",
       "      <td>0</td>\n",
       "    </tr>\n",
       "    <tr>\n",
       "      <th>4</th>\n",
       "      <td>1</td>\n",
       "      <td>0</td>\n",
       "      <td>1</td>\n",
       "      <td>0</td>\n",
       "      <td>0</td>\n",
       "      <td>0</td>\n",
       "    </tr>\n",
       "    <tr>\n",
       "      <th>5</th>\n",
       "      <td>4</td>\n",
       "      <td>0</td>\n",
       "      <td>0</td>\n",
       "      <td>0</td>\n",
       "      <td>0</td>\n",
       "      <td>1</td>\n",
       "    </tr>\n",
       "  </tbody>\n",
       "</table>\n",
       "</div>"
      ],
      "text/plain": [
       "   cat_code  Planets_Earth  Planets_Monn  Planets_Moon  Planets_Sun  \\\n",
       "0         3              0             0             0            1   \n",
       "1         3              0             0             0            1   \n",
       "2         2              0             0             1            0   \n",
       "3         0              1             0             0            0   \n",
       "4         1              0             1             0            0   \n",
       "5         4              0             0             0            0   \n",
       "\n",
       "   Planets_Venus  \n",
       "0              0  \n",
       "1              0  \n",
       "2              0  \n",
       "3              0  \n",
       "4              0  \n",
       "5              1  "
      ]
     },
     "execution_count": 22,
     "metadata": {},
     "output_type": "execute_result"
    }
   ],
   "source": [
    "df_new = pd.get_dummies(df,columns=['col1'],prefix='Planets')\n",
    "df_new"
   ]
  },
  {
   "cell_type": "markdown",
   "id": "defensive-flashing",
   "metadata": {},
   "source": [
    "### Count Encoding\n",
    "Count encoding uses the number of categories in the dataset as the new feature. For example, in the column Type, the category value Sun appears 3 times, then the new feature for the Sun is 3."
   ]
  },
  {
   "cell_type": "code",
   "execution_count": 25,
   "id": "yellow-coach",
   "metadata": {},
   "outputs": [
    {
     "name": "stdout",
     "output_type": "stream",
     "text": [
      "--- The original Dataset ---\n",
      "    col1\n",
      "0    Sun\n",
      "1    Sun\n",
      "2   Moon\n",
      "3  Earth\n",
      "4   Monn\n",
      "5  Venus\n",
      "--- Count Encoding ---\n",
      "    col1  count_encode\n",
      "0    Sun             2\n",
      "1    Sun             2\n",
      "2   Moon             1\n",
      "3  Earth             1\n",
      "4   Monn             1\n",
      "5  Venus             1\n"
     ]
    }
   ],
   "source": [
    "df = pd.DataFrame({'col1':['Sun','Sun','Moon','Earth','Monn','Venus']})\n",
    "\n",
    "print('--- The original Dataset ---')\n",
    "print(df)\n",
    "\n",
    "print('--- Count Encoding ---')\n",
    "df['count_encode'] = df['col1'].map(df['col1'].value_counts().to_dict())\n",
    "print(df)"
   ]
  },
  {
   "cell_type": "markdown",
   "id": "annual-martial",
   "metadata": {},
   "source": [
    "### Mean Encoding\n",
    "Mean encoding uses the mean of the target value as a new feature. It’s usually done for classification tasks, particularly a binary classification. The mean value is always on the target value. However, mean encoding can be performed on any numerical features, not only the target value"
   ]
  },
  {
   "cell_type": "code",
   "execution_count": 34,
   "id": "hybrid-dominant",
   "metadata": {},
   "outputs": [
    {
     "name": "stdout",
     "output_type": "stream",
     "text": [
      "--- Original Dataframe ---\n",
      "    col1  Price\n",
      "0    Sun     20\n",
      "1    Sun     30\n",
      "2   Moon     30\n",
      "3  Earth     35\n",
      "4   Monn     40\n",
      "5  Venus     55\n",
      "******************************\n",
      "--- Mean Encoding ---\n",
      "    col1  Price  col_mean\n",
      "0    Sun     20        25\n",
      "1    Sun     30        25\n",
      "2   Moon     30        30\n",
      "3  Earth     35        35\n",
      "4   Monn     40        40\n",
      "5  Venus     55        55\n"
     ]
    }
   ],
   "source": [
    "df = pd.DataFrame({'col1':['Sun','Sun','Moon','Earth','Monn','Venus'],\n",
    "                  'Price':[20,30,30,35,40,55]})\n",
    "\n",
    "print('--- Original Dataframe ---')\n",
    "print(df)\n",
    "print('*'*30)\n",
    "\n",
    "print('--- Mean Encoding ---')\n",
    "d = df.groupby(['col1'])['Price'].mean().to_dict()\n",
    "df['col_mean'] = df['col1'].map(d)\n",
    "print(df)"
   ]
  },
  {
   "cell_type": "markdown",
   "id": "hindu-courage",
   "metadata": {},
   "source": [
    "## Weight of Evidence Encoding\n",
    "Weight of evidence (WOE) is a technique used to encode categorical features for classification tasks. It’s a measure of evidence on one side of an issue compared with the evidence on the other side of the issue"
   ]
  },
  {
   "cell_type": "code",
   "execution_count": 44,
   "id": "southeast-batch",
   "metadata": {},
   "outputs": [
    {
     "name": "stdout",
     "output_type": "stream",
     "text": [
      "--- The original Dataset ---\n",
      "   col1  target\n",
      "0  Moon     1.0\n",
      "1   Sun     1.0\n",
      "2  Moon     0.0\n",
      "3   Sun     1.0\n",
      "4   Sun     0.0\n",
      "******************************\n",
      "--- The woe dataset ---\n",
      "   col1  target        p1        p0       woe\n",
      "0  Moon     1.0  0.500000  0.500000  0.000000\n",
      "1   Sun     1.0  0.666667  0.333333  0.693147\n",
      "2  Moon     0.0  0.500000  0.500000  0.000000\n",
      "3   Sun     1.0  0.666667  0.333333  0.693147\n",
      "4   Sun     0.0  0.666667  0.333333  0.693147\n"
     ]
    }
   ],
   "source": [
    "import pandas as pd\n",
    "import numpy as np\n",
    "\n",
    "df = pd.DataFrame({'col1':['Moon','Sun','Moon','Sun','Sun'],\n",
    "                  'target':[1,1,0,1,0]})\n",
    "\n",
    "df['target'] = df['target'].astype('float64')\n",
    "print('--- The original Dataset ---')\n",
    "print(df)\n",
    "print('*'*30)\n",
    "\n",
    "d = df.groupby(['col1'])['target'].mean().to_dict()\n",
    "df['p1'] = df['col1'].map(d)\n",
    "df['p0'] = 1 - df['p1']\n",
    "df['woe'] = np.log(df['p1']/df['p0'])\n",
    "print('--- The woe dataset ---')\n",
    "print(df)"
   ]
  },
  {
   "cell_type": "markdown",
   "id": "consecutive-virgin",
   "metadata": {},
   "source": [
    "## Feature Interaction\n",
    "Feature interaction is a method for new features by interacting with two or more existing features. In short, if you have two features of category types, you can create a new feature by joining them together"
   ]
  },
  {
   "cell_type": "code",
   "execution_count": 47,
   "id": "bright-bradford",
   "metadata": {},
   "outputs": [
    {
     "name": "stdout",
     "output_type": "stream",
     "text": [
      "--- original dataframe ---\n",
      "  feat1  feat2\n",
      "0     a  apple\n",
      "1     b   ball\n",
      "2     c    cat\n",
      "3     d    dog\n",
      "--- feature interaction ---\n",
      "  feat1  feat2 feat1_feat2\n",
      "0     a  apple     a_apple\n",
      "1     b   ball      b_ball\n",
      "2     c    cat       c_cat\n",
      "3     d    dog       d_dog\n"
     ]
    }
   ],
   "source": [
    "import pandas as pd\n",
    "\n",
    "df = pd.DataFrame({'feat1':['a','b','c','d'],\n",
    "                  'feat2':['apple','ball','cat','dog']})\n",
    "print('--- original dataframe ---')\n",
    "print(df)\n",
    "df['feat1_feat2'] = df['feat1'].astype('str') + '_' + df['feat2'].astype('str')\n",
    "print('--- feature interaction ---')\n",
    "print(df)"
   ]
  }
 ],
 "metadata": {
  "kernelspec": {
   "display_name": "Python 3",
   "language": "python",
   "name": "python3"
  },
  "language_info": {
   "codemirror_mode": {
    "name": "ipython",
    "version": 3
   },
   "file_extension": ".py",
   "mimetype": "text/x-python",
   "name": "python",
   "nbconvert_exporter": "python",
   "pygments_lexer": "ipython3",
   "version": "3.9.1"
  }
 },
 "nbformat": 4,
 "nbformat_minor": 5
}
