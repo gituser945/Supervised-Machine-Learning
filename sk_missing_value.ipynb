{
 "cells": [
  {
   "cell_type": "markdown",
   "metadata": {},
   "source": [
    "The missing value is very common in real value. For different reasons, the dataset contains missing value as blank, **nan**, **inf**, or other specified value. In some cases, some normal values are also considered to be missing value, such as **0** or **1**. Why do we care about the missing value? \n",
    "\n",
    "- Some algorithms or some implementation can't deal with the missing value. They assume that the dataset is complete.\n",
    "- The missing value would impact the performance of our model.\n",
    "\n",
    "In most cases, the first one is the main reason."
   ]
  },
  {
   "cell_type": "markdown",
   "metadata": {},
   "source": [
    "In some cases, you may think that how about just dropping those rows/columns with too many missing values. It's a good idea if only a small part of the data is dropped. However, when the dropped data is large, it may bring some other issues. For example, if you drop the whole columns, it must lead to the loss of information. Another way is to **impute** it. **sklearn** provides some functions missing value imputation."
   ]
  },
  {
   "cell_type": "markdown",
   "metadata": {},
   "source": [
    "## Imputation with simple method\n",
    "\n",
    "As the name suggests, the **SimpleImputer** provides some simple strategies to impute the missing value.\n",
    "\n",
    "- mean: replace missing values using the mean along each column.\n",
    "- median: replace missing values using the median along each column. \n",
    "- most_frequent: replace missing using the most frequent value along each column. This one can be used for both strings or numeric data.\n",
    "- constant\n",
    "\n",
    "Three is another parameter **missing_values** which you can specify what value is considered as a missing value. The default missing value is `np.nan`.\n",
    "\n",
    "At first, let create a matrix and fill some value as **np.nan**."
   ]
  },
  {
   "cell_type": "code",
   "execution_count": 1,
   "metadata": {},
   "outputs": [
    {
     "name": "stdout",
     "output_type": "stream",
     "text": [
      "The original value\n",
      "[[0.37454012 0.95071431 0.73199394 0.59865848]\n",
      " [0.15601864 0.15599452 0.05808361 0.86617615]\n",
      " [0.60111501 0.70807258 0.02058449        nan]\n",
      " [       nan 0.21233911 0.18182497 0.18340451]]\n"
     ]
    }
   ],
   "source": [
    "import numpy as np\n",
    "\n",
    "np.random.seed(42)\n",
    "X = np.random.random(size=(4, 4))\n",
    "## set the missing value\n",
    "X[2, 3] = np.nan\n",
    "X[3, 0] = np.nan\n",
    "print(\"The original value\")\n",
    "print(X)"
   ]
  },
  {
   "cell_type": "markdown",
   "metadata": {},
   "source": [
    "Then, let's impute the missing value by **mean**"
   ]
  },
  {
   "cell_type": "code",
   "execution_count": 2,
   "metadata": {},
   "outputs": [
    {
     "name": "stdout",
     "output_type": "stream",
     "text": [
      "Fill the missing value by mean\n",
      "[[0.37454012 0.95071431 0.73199394 0.59865848]\n",
      " [0.15601864 0.15599452 0.05808361 0.86617615]\n",
      " [0.60111501 0.70807258 0.02058449 0.54941305]\n",
      " [0.37722459 0.21233911 0.18182497 0.18340451]]\n"
     ]
    }
   ],
   "source": [
    "from sklearn.impute import SimpleImputer\n",
    "\n",
    "imp_mean = SimpleImputer(strategy='mean')\n",
    "X_mean = imp_mean.fit_transform(X)\n",
    "print(\"Fill the missing value by mean\")\n",
    "print(X_mean)"
   ]
  },
  {
   "cell_type": "markdown",
   "metadata": {},
   "source": [
    "Then, let's impute the missing value by **median**."
   ]
  },
  {
   "cell_type": "code",
   "execution_count": 3,
   "metadata": {},
   "outputs": [
    {
     "name": "stdout",
     "output_type": "stream",
     "text": [
      "Fill the missing value by median\n",
      "[[0.37454012 0.95071431 0.73199394 0.59865848]\n",
      " [0.15601864 0.15599452 0.05808361 0.86617615]\n",
      " [0.60111501 0.70807258 0.02058449 0.59865848]\n",
      " [0.37454012 0.21233911 0.18182497 0.18340451]]\n"
     ]
    }
   ],
   "source": [
    "imp_median = SimpleImputer(strategy='median')\n",
    "X_median = imp_median.fit_transform(X)\n",
    "print(\"Fill the missing value by median\")\n",
    "print(X_median)"
   ]
  },
  {
   "cell_type": "markdown",
   "metadata": {},
   "source": [
    "Not only the numeric data, it also can impute the category data. In this example, the missing value is blank string, not **nan**. And the strategy is **most_frequent**."
   ]
  },
  {
   "cell_type": "code",
   "execution_count": 4,
   "metadata": {},
   "outputs": [
    {
     "name": "stdout",
     "output_type": "stream",
     "text": [
      "The original data\n",
      "[['Sun']\n",
      " ['Sun']\n",
      " ['Moon']\n",
      " ['Earth']\n",
      " ['']\n",
      " ['Sun']]\n",
      "Fill the missing value by most frequent item\n",
      "[['Sun']\n",
      " ['Sun']\n",
      " ['Moon']\n",
      " ['Earth']\n",
      " ['Sun']\n",
      " ['Sun']]\n"
     ]
    }
   ],
   "source": [
    "X2 = np.array([\"Sun\", \"Sun\", \"Moon\", \"Earth\", \"\", \"Sun\"], dtype='object').reshape(-1, 1)\n",
    "imp_req = SimpleImputer(missing_values=\"\", strategy='most_frequent')\n",
    "print(\"The original data\")\n",
    "print(X2)\n",
    "X_freq = imp_req.fit_transform(X2)\n",
    "print(\"Fill the missing value by most frequent item\")\n",
    "print(X_freq)"
   ]
  },
  {
   "cell_type": "markdown",
   "metadata": {},
   "source": [
    "## Imputation with KNN\n",
    "\n",
    "`sklearn` provides another function `KNNImputer` to fill the missing value. This function imputes completing missing values using k-Nearest Neighbors. Each sample’s missing values are imputed using the mean value from `n_neighbors` nearest neighbors found in the training set. Ths usage is very similar to the `SimpleImputer`.\n",
    "\n",
    "In the example below, we use `n_neighbors=3` as the parameter."
   ]
  },
  {
   "cell_type": "code",
   "execution_count": 10,
   "metadata": {},
   "outputs": [
    {
     "name": "stdout",
     "output_type": "stream",
     "text": [
      "The original value\n",
      "[[ 1.  2. nan  2.]\n",
      " [ 3.  4.  3.  5.]\n",
      " [nan  6.  5.  7.]\n",
      " [ 8.  8.  7.  9.]]\n",
      "Fill the missing value by KNN\n",
      "[[1. 2. 5. 2.]\n",
      " [3. 4. 3. 5.]\n",
      " [4. 6. 5. 7.]\n",
      " [8. 8. 7. 9.]]\n"
     ]
    }
   ],
   "source": [
    "from sklearn.impute import KNNImputer\n",
    "\n",
    "X = np.array([[1, 2, np.nan, 2], [3, 4, 3, 5], [np.nan, 6, 5, 7], [8, 8, 7, 9]])\n",
    "knn = KNNImputer(n_neighbors=3)\n",
    "print(\"The original value\")\n",
    "print(X)\n",
    "X_trans = knn.fit_transform(X)\n",
    "print(\"Fill the missing value by KNN\")\n",
    "print(X_trans)"
   ]
  },
  {
   "cell_type": "code",
   "execution_count": null,
   "metadata": {},
   "outputs": [],
   "source": []
  }
 ],
 "metadata": {
  "kernelspec": {
   "display_name": "Python 3",
   "language": "python",
   "name": "python3"
  },
  "language_info": {
   "codemirror_mode": {
    "name": "ipython",
    "version": 3
   },
   "file_extension": ".py",
   "mimetype": "text/x-python",
   "name": "python",
   "nbconvert_exporter": "python",
   "pygments_lexer": "ipython3",
   "version": "3.5.2"
  }
 },
 "nbformat": 4,
 "nbformat_minor": 4
}
