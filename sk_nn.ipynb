{
 "cells": [
  {
   "cell_type": "markdown",
   "metadata": {},
   "source": [
    "If you are trying to go deeper into the field of Deep Learning, the best Framework you should choose is **Tensorflow** or **PyTorch**, not **sklearn**. **Deep Learning** is only a part of **Machine Learning**, a subset, not the whole story. The advantage of **sklearn** is not in deep learning, but machine learning and statistical theory. It provides a more comprehensive framework that covers most areas of machine learning, such as **support vector machines**, **random forests**, **gradient boosting**, **k-means**, and **DBSCAN**. It focuses more on traditional machine learning areas. Therefore, it does not cover much in deep learning. Meanwhile, it provides lots of common techniques, such as model selection, feature selection, model evaluation, and feature extraction.\n",
    "\n",
    "If you just want to use the vanilla **MLP** in **sklearn**, it's OK. **sklearn** provides some functions to help create a neural network for classification and regression. However, you can't control too many things, even the function allows you to pass a lot of parameters. Meanwhile, if you want to try another network structure, such as RNN, or modify the network structure, **sklearn** has no out-of-the-box API. Although you can build one from scratch using Numpy, it's not necessary.\n",
    "\n",
    "Anyway, in this lesson, we won't talk about anything about neural network theory and principles, just show you how to use sklearn to create a neural network and use it. After all, it's only a small feature in **sklearn**. I think most of you want to use a neural network that would choose **Tensorflow** or **PyTorch**. If you want to know more about the neural network and how to build them, you should find other learning materials."
   ]
  },
  {
   "cell_type": "markdown",
   "metadata": {},
   "source": [
    "At first, let's create a data set. In this demo, we are creating a classification dataset with 2 classes."
   ]
  },
  {
   "cell_type": "code",
   "execution_count": 1,
   "metadata": {},
   "outputs": [
    {
     "name": "stdout",
     "output_type": "stream",
     "text": [
      "the shape of X is (1000, 30)\n",
      "the shape of y is (1000,)\n",
      "the first five instances of this data set [[-2.49986445e+00 -5.20457203e-01 -1.36693661e+00  1.97820479e+00\n",
      "  -3.10361054e-01  1.15625554e+00 -6.21494653e-02 -8.56200571e-02\n",
      "  -1.31799049e+00  9.40266336e-01  3.01392896e-01  2.15920604e+00\n",
      "  -1.18499620e+00  1.26675449e+00  1.28963630e+00  6.60982793e-01\n",
      "  -1.54609945e+00  4.86681956e-02 -1.16217561e+00  5.89317380e-01\n",
      "  -7.89364030e-01  2.55216283e-01 -2.32959695e+00  3.53299293e-04\n",
      "  -7.03805919e-01  1.41507873e+00  9.78255199e-03 -1.26981255e+00\n",
      "   2.31095389e-01  1.38495215e-01]\n",
      " [ 1.58193578e+00  8.97373062e-01  5.21330113e-01 -9.51676572e-01\n",
      "  -6.02841759e-01 -8.35147551e-01 -2.03974100e+00 -5.69134876e-01\n",
      "   1.54830718e-01 -3.07198142e-01 -2.81050228e+00 -1.33379470e+00\n",
      "  -9.81760630e-01 -5.33687385e-01  1.07741626e+00 -7.40516935e-01\n",
      "  -1.80799112e-01  1.92629291e-01 -8.05065555e-01 -1.15790811e+00\n",
      "   5.13166994e-02  3.54832809e+00 -1.67314159e+00  1.94352654e-01\n",
      "  -2.33521636e+00  2.11317153e+00 -1.65316147e-01 -4.63580160e-01\n",
      "   2.39299939e+00 -1.77283121e-01]\n",
      " [ 3.69103239e-01 -3.35460685e-01 -2.77518072e+00 -6.24131600e-01\n",
      "   3.54147372e-01 -5.14961403e-01 -1.67236049e+00  5.81859628e-03\n",
      "   6.05244469e-01  7.63872740e-01 -2.71264302e+00 -2.70058835e-02\n",
      "   4.51744363e-01  8.77619441e-01  6.74154999e-01 -1.71548306e+00\n",
      "   6.43922955e-01 -1.87376634e+00  3.29156501e-01 -1.28343067e-01\n",
      "   6.70218470e-01  2.75403045e+00  1.00622129e+00  5.09122529e-01\n",
      "   1.28788147e+00  1.38696313e-01 -2.15246646e-01  9.34614773e-01\n",
      "  -1.65175998e+00 -2.97175071e-01]\n",
      " [ 2.45059948e-01  2.58416266e+00  4.35281647e-01  1.53458334e+00\n",
      "  -7.98031437e-01  7.54770720e-01 -5.43139530e-01 -1.12806760e+00\n",
      "   1.31013763e+00 -1.59161230e-01  3.04314677e+00  1.94450536e+00\n",
      "   4.03025358e-01 -1.41524947e+00  1.20643339e+00 -1.24841002e+00\n",
      "   7.00102146e-01 -4.84200455e-01  2.01155209e-02 -3.30251619e-01\n",
      "   1.41128326e+00  2.38592685e+00 -1.58955586e+00  1.48694577e+00\n",
      "  -4.23094316e-01  1.56475188e+00  4.90914321e-01  8.37587021e-01\n",
      "  -1.29477745e-01  1.36248470e+00]\n",
      " [ 7.97562158e-01 -4.30488359e-01  9.51860780e-01  2.46260708e-02\n",
      "  -5.73121359e-02  1.06725736e+00  4.91093500e-01  4.51428962e-01\n",
      "  -8.65650089e-01 -9.45059700e-01  3.11050908e-01 -6.26526412e-01\n",
      "   1.70125343e-01 -1.35967928e+00  1.68488577e+00 -1.47247168e-02\n",
      "  -2.29383318e-01  6.84302733e-02 -4.21978064e-01 -5.87881349e-01\n",
      "  -1.29802919e-01 -9.93267251e-01 -4.14227756e-01 -3.79833309e-03\n",
      "  -2.66930584e-01 -9.74224953e-01  2.04316503e+00 -7.06240911e-01\n",
      "   4.05409341e-01 -9.32520905e-02]]\n"
     ]
    }
   ],
   "source": [
    "%matplotlib inline\n",
    "import sklearn.datasets as datasets\n",
    "\n",
    "X, y = datasets.make_classification(n_samples=1000,\n",
    "                                    n_features=30,\n",
    "                                    random_state=10)\n",
    "\n",
    "print(\"the shape of X is {}\".format(X.shape))\n",
    "print(\"the shape of y is {}\".format(y.shape))\n",
    "print(\"the first five instances of this data set {}\".format(X[:5]))"
   ]
  },
  {
   "cell_type": "markdown",
   "metadata": {},
   "source": [
    "Split the data to train and test set"
   ]
  },
  {
   "cell_type": "code",
   "execution_count": 2,
   "metadata": {},
   "outputs": [],
   "source": [
    "from sklearn.model_selection import train_test_split\n",
    "\n",
    "train_x, test_x, train_y, test_y = train_test_split(X,\n",
    "                                                    y,\n",
    "                                                    test_size=0.2,\n",
    "                                                    random_state=42)"
   ]
  },
  {
   "cell_type": "markdown",
   "metadata": {},
   "source": [
    "Then, create a **MLPClassifier** object from **neural_network** module. The **MLP** stands for a multilayer perceptron. As you can see, the NN requires a lot of parameters. If you are familiar with Deep Learning, you may know fine tunning is a very important and time-consuming task in a neural network.\n",
    "\n",
    "Following are some parameters we set below:\n",
    "\n",
    "- batch_size: In general, a neural network uses stochastic optimizers, so every time it just uses only a mini-batch samples to train.\n",
    "- solver: Optimizer is another big topic in Deep Learning, here we just choose the simplest one.\n",
    "- shuffle: Whether to shuffle samples in each iteration, this can increase the randomness of training and improve the training efficiency.\n",
    "- tol: Convergence condition, which means the change of loss between two iterations is less than a certain threshold.\n",
    "- max_iter: The maximum number of iteration.\n",
    "- learning_rate_init: Learning rate is the most important hyperparameter in Deep Learning, which is also a very big topic. When **solver=\"sgd\"**, you can choose the learning rate schedule for parameter updates. The default setting is **constant**. Here we only set learning_rate_init, which means the learning rate would always be **0.001** during the training.\n"
   ]
  },
  {
   "cell_type": "code",
   "execution_count": 3,
   "metadata": {},
   "outputs": [],
   "source": [
    "from sklearn.neural_network import MLPClassifier\n",
    "\n",
    "nn = MLPClassifier(batch_size=32,\n",
    "                   hidden_layer_sizes=(64, 32),\n",
    "                   solver=\"sgd\",\n",
    "                   shuffle=True,\n",
    "                   tol=1e-3,\n",
    "                   max_iter=300,\n",
    "                   learning_rate_init=0.001)"
   ]
  },
  {
   "cell_type": "markdown",
   "metadata": {},
   "source": [
    "Train the model and check the performance of this model."
   ]
  },
  {
   "cell_type": "code",
   "execution_count": 4,
   "metadata": {},
   "outputs": [
    {
     "data": {
      "text/plain": [
       "<sklearn.metrics._plot.confusion_matrix.ConfusionMatrixDisplay at 0x12ad92cd0>"
      ]
     },
     "execution_count": 4,
     "metadata": {},
     "output_type": "execute_result"
    },
    {
     "data": {
      "image/png": "[encoded data removed]",
      "text/plain": [
       "<Figure size 432x288 with 2 Axes>"
      ]
     },
     "metadata": {
      "needs_background": "light"
     },
     "output_type": "display_data"
    }
   ],
   "source": [
    "import sklearn.metrics as metrics\n",
    "\n",
    "nn.fit(train_x, train_y)\n",
    "\n",
    "metrics.plot_confusion_matrix(nn, test_x, test_y)"
   ]
  },
  {
   "cell_type": "markdown",
   "metadata": {},
   "source": [
    "The AUC is **0.91**."
   ]
  },
  {
   "cell_type": "code",
   "execution_count": 5,
   "metadata": {},
   "outputs": [
    {
     "data": {
      "text/plain": [
       "<sklearn.metrics._plot.roc_curve.RocCurveDisplay at 0x12aedc2d0>"
      ]
     },
     "execution_count": 5,
     "metadata": {},
     "output_type": "execute_result"
    },
    {
     "data": {
      "image/png": "[encoded data removed]",
      "text/plain": [
       "<Figure size 432x288 with 1 Axes>"
      ]
     },
     "metadata": {
      "needs_background": "light"
     },
     "output_type": "display_data"
    }
   ],
   "source": [
    "metrics.plot_roc_curve(nn, test_x, test_y)"
   ]
  },
  {
   "cell_type": "markdown",
   "metadata": {},
   "source": [
    "If you are already reading some papers or articles, you should often see a similar chart, that is, as the number of training iteration increases, the loss decreases. In **sklearn**, the **loss** of each iteration is stored in the attribution of a model, **loss_curve_**. Let's plot it."
   ]
  },
  {
   "cell_type": "code",
   "execution_count": 14,
   "metadata": {},
   "outputs": [
    {
     "data": {
      "text/plain": [
       "Text(0, 0.5, 'loss')"
      ]
     },
     "execution_count": 14,
     "metadata": {},
     "output_type": "execute_result"
    },
    {
     "data": {
      "image/png": "[encoded data removed]",
      "text/plain": [
       "<Figure size 432x288 with 1 Axes>"
      ]
     },
     "metadata": {
      "needs_background": "light"
     },
     "output_type": "display_data"
    }
   ],
   "source": [
    "import matplotlib.pyplot as plt\n",
    "\n",
    "fig, axe = plt.subplots()\n",
    "axe.plot(range(len(nn.loss_curve_)), nn.loss_curve_)\n",
    "axe.set_xlabel(\"iteration\")\n",
    "axe.set_ylabel(\"loss\")"
   ]
  },
  {
   "cell_type": "code",
   "execution_count": null,
   "metadata": {},
   "outputs": [],
   "source": []
  }
 ],
 "metadata": {
  "kernelspec": {
   "display_name": "Python 3",
   "language": "python",
   "name": "python3"
  },
  "language_info": {
   "codemirror_mode": {
    "name": "ipython",
    "version": 3
   },
   "file_extension": ".py",
   "mimetype": "text/x-python",
   "name": "python",
   "nbconvert_exporter": "python",
   "pygments_lexer": "ipython3",
   "version": "3.5.2"
  }
 },
 "nbformat": 4,
 "nbformat_minor": 4
}
